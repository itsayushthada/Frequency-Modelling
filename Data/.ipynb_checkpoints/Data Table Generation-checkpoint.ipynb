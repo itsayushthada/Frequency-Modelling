{
 "cells": [
  {
   "cell_type": "code",
   "execution_count": 1,
   "metadata": {},
   "outputs": [],
   "source": [
    "import numpy as np\n",
    "import matplotlib.pyplot as plt\n",
    "from scipy import stats"
   ]
  },
  {
   "cell_type": "code",
   "execution_count": 2,
   "metadata": {},
   "outputs": [],
   "source": [
    "plt.rcParams[\"figure.figsize\"] = (12, 8)"
   ]
  },
  {
   "cell_type": "code",
   "execution_count": 3,
   "metadata": {},
   "outputs": [],
   "source": [
    "def stat_tests(x, y):\n",
    "    res1 = [\"Independent\", \"Dependent\"]\n",
    "    res2 = [\"Same Disribution\", \"Different Distribution\"]\n",
    "    \n",
    "    print(\"CORRELATION:\")\n",
    "    a, b = stats.pearsonr(x, y)\n",
    "    print(\"  PearsonrResult(correlation={}, p_values={})    {}\".format(a, b, res1[int(b<0.05)]))\n",
    "    statistic = stats.spearmanr(x, y)\n",
    "    print(\"  {}    {}\".format(statistic, res1[int(statistic.pvalue<0.05)]))\n",
    "    statistic = stats.kendalltau(x, y)\n",
    "    print(\"  {}    {}\".format(statistic, res1[int(statistic.pvalue<0.05)]))\n",
    "    \n",
    "    print(\"\\nPARAMETRIC STATISTICAL HYPOTHESIS TESTS\")\n",
    "    statistic = stats.ttest_ind(x, y)\n",
    "    print(\"  {}    {}\".format(statistic, res2[int(statistic.pvalue<0.05)]))\n",
    "    statistic = stats.ttest_rel(x, y)\n",
    "    print(\"  {}    {}\".format(statistic, res2[int(statistic.pvalue<0.05)]))\n",
    "    statistic = stats.f_oneway(x, y)\n",
    "    print(\"  {}    {}\".format(statistic, res2[int(statistic.pvalue<0.05)]))\n",
    "                        \n",
    "    print('\\nNON-PARAMETRIC STATISTICAL HYPOTHESIS TESTS')\n",
    "    statistic = stats.mannwhitneyu(x, y)\n",
    "    print(\"  {}    {}\".format(statistic, res2[int(statistic.pvalue<0.05)]))\n",
    "    statistic = stats.wilcoxon(x, y)\n",
    "    print(\"  {}    {}\".format(statistic, res2[int(statistic.pvalue<0.05)]))\n",
    "    statistic = stats.kruskal(x, y)\n",
    "    print(\"  {}    {}\".format(statistic, res2[int(statistic.pvalue<0.05)]))"
   ]
  },
  {
   "cell_type": "markdown",
   "metadata": {},
   "source": [
    "# Method I"
   ]
  },
  {
   "cell_type": "code",
   "execution_count": 4,
   "metadata": {},
   "outputs": [],
   "source": [
    "l1 = []\n",
    "l2 = []\n",
    "\n",
    "for x in range(1,99):\n",
    "    for y in range(x+5, 100):\n",
    "        l1.append(x)\n",
    "        l2.append(y)\n",
    "        \n",
    "l1 = np.array(l1)\n",
    "l2 = np.array(l2)"
   ]
  },
  {
   "cell_type": "code",
   "execution_count": 5,
   "metadata": {},
   "outputs": [],
   "source": [
    "def get_data(seed, x=l1, y=l2, vals = 30):\n",
    "    np.random.seed(seed)\n",
    "    idx = np.random.choice(len(l1), size = vals, replace=False)\n",
    "    idx.sort()\n",
    "\n",
    "    return x[idx], y[idx]"
   ]
  },
  {
   "cell_type": "code",
   "execution_count": 6,
   "metadata": {},
   "outputs": [
    {
     "data": {
      "text/plain": [
       "(0.00012917960207798544, 0.9994594496137726)"
      ]
     },
     "execution_count": 6,
     "metadata": {},
     "output_type": "execute_result"
    }
   ],
   "source": [
    "r_seed = 0\n",
    "best_p = 0\n",
    "best_corr = 1\n",
    "\n",
    "for seed in range(1, 100000):\n",
    "    x, y = get_data(seed, vals=30)\n",
    "    corr, p_val = stats.pearsonr(x, y)\n",
    "    if np.abs(corr) < best_corr:\n",
    "        best_corr = np.abs(corr)\n",
    "        r_seed = seed\n",
    "        best_p = p_val\n",
    "        \n",
    "best_corr, best_p"
   ]
  },
  {
   "cell_type": "code",
   "execution_count": 7,
   "metadata": {},
   "outputs": [],
   "source": [
    "x, y = get_data(r_seed, vals=30)"
   ]
  },
  {
   "cell_type": "code",
   "execution_count": 8,
   "metadata": {},
   "outputs": [
    {
     "data": {
      "image/png": "[encoded data removed]",
      "text/plain": [
       "<Figure size 864x576 with 1 Axes>"
      ]
     },
     "metadata": {},
     "output_type": "display_data"
    }
   ],
   "source": [
    "plt.scatter(x, y)\n",
    "plt.show()"
   ]
  },
  {
   "cell_type": "code",
   "execution_count": 9,
   "metadata": {},
   "outputs": [
    {
     "name": "stdout",
     "output_type": "stream",
     "text": [
      "CORRELATION:\n",
      "  PearsonrResult(correlation=-0.00012917960207798544, p_values=0.9994594496137726)    Independent\n",
      "  SpearmanrResult(correlation=-0.13743178612907406, pvalue=0.46893870451830544)    Independent\n",
      "  KendalltauResult(correlation=-0.07674418604651163, pvalue=0.555357839885671)    Independent\n",
      "\n",
      "PARAMETRIC STATISTICAL HYPOTHESIS TESTS\n",
      "  Ttest_indResult(statistic=-7.371935950576838, pvalue=6.9492055417829e-10)    Different Distribution\n",
      "  Ttest_relResult(statistic=-7.371464118233904, pvalue=4.028824163652124e-08)    Different Distribution\n",
      "  F_onewayResult(statistic=54.345439659407255, pvalue=6.949205541782872e-10)    Different Distribution\n",
      "\n",
      "NON-PARAMETRIC STATISTICAL HYPOTHESIS TESTS\n",
      "  MannwhitneyuResult(statistic=80.0, pvalue=2.3298216822955272e-08)    Different Distribution\n",
      "  WilcoxonResult(statistic=0.0, pvalue=1.726772765612998e-06)    Different Distribution\n",
      "  KruskalResult(statistic=29.934309883166122, pvalue=4.469338552689325e-08)    Different Distribution\n"
     ]
    }
   ],
   "source": [
    "stat_tests(x, y)"
   ]
  },
  {
   "cell_type": "markdown",
   "metadata": {},
   "source": [
    "# Method II"
   ]
  },
  {
   "cell_type": "code",
   "execution_count": 10,
   "metadata": {},
   "outputs": [],
   "source": [
    "def get_data(seed):\n",
    "    noise = 5\n",
    "    sep = 5\n",
    "    np.random.seed(seed)\n",
    "    g = list(np.arange(1+noise, 100-noise, 13))\n",
    "    h = list(np.arange(g[0]+sep+noise, 100+sep-noise+2, 12))\n",
    "\n",
    "    x = []\n",
    "    y = []\n",
    "\n",
    "    for i in g:\n",
    "        for j in h:\n",
    "            if i<j:\n",
    "                x.append(min(i + np.random.randint(-noise, noise+1), 99))\n",
    "                y.append(min(j + np.random.randint(-noise, noise+1), 99))\n",
    "                \n",
    "    return x, y"
   ]
  },
  {
   "cell_type": "code",
   "execution_count": 11,
   "metadata": {},
   "outputs": [],
   "source": [
    "seed = 69\n",
    "\n",
    "x,y = get_data(seed)"
   ]
  },
  {
   "cell_type": "code",
   "execution_count": 12,
   "metadata": {},
   "outputs": [
    {
     "data": {
      "image/png": "[encoded data removed]",
      "text/plain": [
       "<Figure size 864x576 with 1 Axes>"
      ]
     },
     "metadata": {},
     "output_type": "display_data"
    }
   ],
   "source": [
    "plt.scatter(x, y)\n",
    "plt.show()"
   ]
  },
  {
   "cell_type": "code",
   "execution_count": 13,
   "metadata": {},
   "outputs": [
    {
     "name": "stdout",
     "output_type": "stream",
     "text": [
      "CORRELATION:\n",
      "  PearsonrResult(correlation=0.4824254648415641, p_values=0.003336056252044159)    Dependent\n",
      "  SpearmanrResult(correlation=0.47555249507750524, pvalue=0.003886734550165523)    Dependent\n",
      "  KendalltauResult(correlation=0.34017292818421907, pvalue=0.004615498849532729)    Dependent\n",
      "\n",
      "PARAMETRIC STATISTICAL HYPOTHESIS TESTS\n",
      "  Ttest_indResult(statistic=-6.3520818075958605, pvalue=2.041468213718841e-08)    Different Distribution\n",
      "  Ttest_relResult(statistic=-8.829249667799271, pvalue=2.557682445065482e-10)    Different Distribution\n",
      "  F_onewayResult(statistic=40.348943290390274, pvalue=2.041468213718857e-08)    Different Distribution\n",
      "\n",
      "NON-PARAMETRIC STATISTICAL HYPOTHESIS TESTS\n",
      "  MannwhitneyuResult(statistic=184.5, pvalue=2.5407139278719745e-07)    Different Distribution\n",
      "  WilcoxonResult(statistic=2.0, pvalue=2.9423673907616493e-07)    Different Distribution\n",
      "  KruskalResult(statistic=25.29172171433575, pvalue=4.92819316178735e-07)    Different Distribution\n"
     ]
    }
   ],
   "source": [
    "stat_tests(x, y)"
   ]
  },
  {
   "cell_type": "markdown",
   "metadata": {},
   "source": [
    "# Data Generation\n",
    "\n",
    "I'm using Method 2."
   ]
  },
  {
   "cell_type": "code",
   "execution_count": 14,
   "metadata": {},
   "outputs": [],
   "source": [
    "import pandas as pd"
   ]
  },
  {
   "cell_type": "code",
   "execution_count": 15,
   "metadata": {},
   "outputs": [],
   "source": [
    "# Reading for each depth values\n",
    "\n",
    "dval = 35"
   ]
  },
  {
   "cell_type": "code",
   "execution_count": 16,
   "metadata": {},
   "outputs": [],
   "source": [
    "colnames = [\"depth\", \"l1\", \"l2\"]\n",
    "d_vals = [0.5, 1, 2, 3, 4, 5]"
   ]
  },
  {
   "cell_type": "code",
   "execution_count": 17,
   "metadata": {},
   "outputs": [],
   "source": [
    "def generate_table_data(dval = 35, ftype=\"csv\"):\n",
    "    \"\"\"\n",
    "    ftype: It takes value from the list [\"csv\", \"xlxs\"]\n",
    "    \"\"\"\n",
    "    data = np.zeros(shape=(35*6, 3), dtype=np.float16)\n",
    "    for i in range(6):\n",
    "        x,y = get_data(10**i-1)\n",
    "        data[dval*i:dval*(i+1), :] = np.array([np.ones(shape = dval)*d_vals[i], x, y]).T\n",
    "\n",
    "    data = np.vstack((np.zeros((1,3)), data))\n",
    "    assert data.shape == (1 + dval*6, 3)\n",
    "\n",
    "    try:\n",
    "        df = pd.DataFrame(data, columns=colnames[:3])\n",
    "        if ftype == \"csv\":\n",
    "            df.to_csv(\"metadata-free-free-system.csv\", index=False)\n",
    "        if ftype == \"xlsx\":\n",
    "            df.to_excel(\"metadata-free-free-system.xlsx\", index=False)\n",
    "        print(\"File Generated\")\n",
    "    except:\n",
    "        print(\"File couldn't be generated.\")"
   ]
  },
  {
   "cell_type": "code",
   "execution_count": 18,
   "metadata": {},
   "outputs": [
    {
     "name": "stdout",
     "output_type": "stream",
     "text": [
      "File Generated\n"
     ]
    }
   ],
   "source": [
    "generate_table_data(ftype=\"csv\")"
   ]
  },
  {
   "cell_type": "code",
   "execution_count": 19,
   "metadata": {},
   "outputs": [
    {
     "name": "stdout",
     "output_type": "stream",
     "text": [
      "File Generated\n"
     ]
    }
   ],
   "source": [
    "generate_table_data(ftype=\"xlsx\")"
   ]
  }
 ],
 "metadata": {
  "@webio": {
   "lastCommId": null,
   "lastKernelId": null
  },
  "kernelspec": {
   "display_name": "Python 3",
   "language": "python",
   "name": "python3"
  },
  "language_info": {
   "codemirror_mode": {
    "name": "ipython",
    "version": 3
   },
   "file_extension": ".py",
   "mimetype": "text/x-python",
   "name": "python",
   "nbconvert_exporter": "python",
   "pygments_lexer": "ipython3",
   "version": "3.6.6"
  }
 },
 "nbformat": 4,
 "nbformat_minor": 2
}
