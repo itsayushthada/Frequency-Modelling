{
 "cells": [
  {
   "cell_type": "code",
   "execution_count": 1,
   "metadata": {},
   "outputs": [],
   "source": [
    "import numpy as np\n",
    "import matplotlib.pyplot as plt\n",
    "from scipy import stats"
   ]
  },
  {
   "cell_type": "code",
   "execution_count": 2,
   "metadata": {},
   "outputs": [],
   "source": [
    "plt.rcParams[\"figure.figsize\"] = (12, 8)"
   ]
  },
  {
   "cell_type": "code",
   "execution_count": 3,
   "metadata": {},
   "outputs": [],
   "source": [
    "def stat_tests(x, y):\n",
    "    res1 = [\"Dependent\", \"Independent\"]\n",
    "    res2 = [\"Same Disribution\", \"Different Distribution\"]\n",
    "    \n",
    "    print(\"CORRELATION:\")\n",
    "    a, b = stats.pearsonr(x, y)\n",
    "    print(\"  PearsonrResult(correlation={}, p_values={})    {}\".format(a, b, res1[int(b<0.05)]))\n",
    "    statistic = stats.spearmanr(x, y)\n",
    "    print(\"  {}    {}\".format(statistic, res1[int(statistic.pvalue<0.05)]))\n",
    "    statistic = stats.kendalltau(x, y)\n",
    "    print(\"  {}    {}\".format(statistic, res1[int(statistic.pvalue<0.05)]))\n",
    "    \n",
    "    print(\"\\nPARAMETRIC STATISTICAL HYPOTHESIS TESTS\")\n",
    "    statistic = stats.ttest_ind(x, y)\n",
    "    print(\"  {}    {}\".format(statistic, res2[int(statistic.pvalue<0.05)]))\n",
    "    statistic = stats.ttest_rel(x, y)\n",
    "    print(\"  {}    {}\".format(statistic, res2[int(statistic.pvalue<0.05)]))\n",
    "    statistic = stats.f_oneway(x, y)\n",
    "    print(\"  {}    {}\".format(statistic, res2[int(statistic.pvalue<0.05)]))\n",
    "                        \n",
    "    print('\\nNON-PARAMETRIC STATISTICAL HYPOTHESIS TESTS')\n",
    "    statistic = stats.mannwhitneyu(x, y)\n",
    "    print(\"  {}    {}\".format(statistic, res2[int(statistic.pvalue<0.05)]))\n",
    "    statistic = stats.wilcoxon(x, y)\n",
    "    print(\"  {}    {}\".format(statistic, res2[int(statistic.pvalue<0.05)]))\n",
    "    statistic = stats.kruskal(x, y)\n",
    "    print(\"  {}    {}\".format(statistic, res2[int(statistic.pvalue<0.05)]))"
   ]
  },
  {
   "cell_type": "markdown",
   "metadata": {},
   "source": [
    "# Method I"
   ]
  },
  {
   "cell_type": "code",
   "execution_count": 4,
   "metadata": {},
   "outputs": [],
   "source": [
    "l1 = []\n",
    "l2 = []\n",
    "\n",
    "for x in range(1,99):\n",
    "    for y in range(x+5, 100):\n",
    "        l1.append(x)\n",
    "        l2.append(y)\n",
    "        \n",
    "l1 = np.array(l1)\n",
    "l2 = np.array(l2)"
   ]
  },
  {
   "cell_type": "code",
   "execution_count": 5,
   "metadata": {},
   "outputs": [],
   "source": [
    "def get_data(seed, x=l1, y=l2, vals = 30):\n",
    "    np.random.seed(seed)\n",
    "    idx = np.random.choice(len(l1), size = vals, replace=False)\n",
    "    idx.sort()\n",
    "\n",
    "    return x[idx], y[idx]"
   ]
  },
  {
   "cell_type": "code",
   "execution_count": null,
   "metadata": {},
   "outputs": [],
   "source": [
    "r_seed = 0\n",
    "best_p = 0\n",
    "best_corr = 1\n",
    "\n",
    "for seed in range(1, 100000):\n",
    "    x, y = get_data(seed, vals=30)\n",
    "    corr, p_val = stats.pearsonr(x, y)\n",
    "    if np.abs(corr) < best_corr:\n",
    "        best_corr = np.abs(corr)\n",
    "        r_seed = seed\n",
    "        best_p = p_val\n",
    "        \n",
    "best_corr, best_p"
   ]
  },
  {
   "cell_type": "code",
   "execution_count": null,
   "metadata": {},
   "outputs": [],
   "source": [
    "x, y = get_data(r_seed, vals=30)"
   ]
  },
  {
   "cell_type": "code",
   "execution_count": null,
   "metadata": {},
   "outputs": [],
   "source": [
    "plt.scatter(x, y)\n",
    "plt.show()"
   ]
  },
  {
   "cell_type": "code",
   "execution_count": null,
   "metadata": {},
   "outputs": [],
   "source": [
    "stat_tests(x, y)"
   ]
  },
  {
   "cell_type": "markdown",
   "metadata": {},
   "source": [
    "# Method II"
   ]
  },
  {
   "cell_type": "code",
   "execution_count": null,
   "metadata": {},
   "outputs": [],
   "source": [
    "noise = 5\n",
    "sep = 5\n",
    "\n",
    "g = list(np.arange(1+noise, 100-noise, 13))\n",
    "h = list(np.arange(g[0]+sep+noise, 100+sep-noise+2, 12))\n",
    "\n",
    "x = []\n",
    "y = []\n",
    "\n",
    "for i in g:\n",
    "    for j in h:\n",
    "        if i<j:\n",
    "            x.append(i + np.random.randint(-noise, noise+1))\n",
    "            y.append(j + np.random.randint(-noise, noise+1))"
   ]
  },
  {
   "cell_type": "code",
   "execution_count": null,
   "metadata": {},
   "outputs": [],
   "source": [
    "plt.scatter(x, y)\n",
    "plt.show()"
   ]
  },
  {
   "cell_type": "code",
   "execution_count": null,
   "metadata": {},
   "outputs": [],
   "source": [
    "stat_tests(x, y)"
   ]
  }
 ],
 "metadata": {
  "@webio": {
   "lastCommId": null,
   "lastKernelId": null
  },
  "kernelspec": {
   "display_name": "Python 3",
   "language": "python",
   "name": "python3"
  },
  "language_info": {
   "codemirror_mode": {
    "name": "ipython",
    "version": 3
   },
   "file_extension": ".py",
   "mimetype": "text/x-python",
   "name": "python",
   "nbconvert_exporter": "python",
   "pygments_lexer": "ipython3",
   "version": "3.6.6"
  }
 },
 "nbformat": 4,
 "nbformat_minor": 2
}
