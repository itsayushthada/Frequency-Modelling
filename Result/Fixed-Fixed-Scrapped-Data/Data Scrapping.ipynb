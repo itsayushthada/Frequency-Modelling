{
 "cells": [
  {
   "cell_type": "code",
   "execution_count": 1,
   "metadata": {},
   "outputs": [],
   "source": [
    "import pandas as pd\n",
    "import numpy as np\n",
    "import re\n",
    "import os"
   ]
  },
  {
   "cell_type": "markdown",
   "metadata": {},
   "source": [
    "# Scrapping Data"
   ]
  },
  {
   "cell_type": "code",
   "execution_count": 2,
   "metadata": {},
   "outputs": [],
   "source": [
    "def scrapper(fname, basepath = \"../Fixed-Fixed_Reports/\"):\n",
    "    with open(basepath+fname, \"r\") as file:\n",
    "        data = file.read()\n",
    "        data = data.replace(\"\\x00\", \"\")[2:]\n",
    "    file.close()\n",
    "\n",
    "    pattern = re.findall(r\"TABLE 11.+<td>.+</td>.+TABLE 12\", data)[0]\n",
    "    freq = list(map(lambda x: float(x.split(\"<td>\")[-1]), re.findall(r\"[0-9]+.</td><td>[0-9]+.[0-9]*\", pattern)))\n",
    "\n",
    "    pattern = re.findall(r\"TABLE 13.+<td>.+</td>.+TABLE 14\", data)[0]\n",
    "    pattern = re.findall(r'Maximum</th><td>.+Average', pattern)[0]\n",
    "    maximum = list(map(lambda x: float(x), re.findall(r\"[0-9]+.[0-9]*\", pattern)))\n",
    "\n",
    "    pattern = re.findall(r\"TABLE 13.+<td>.+</td>.+TABLE 14\", data)[0]\n",
    "    pattern = re.findall(r'Average</th><td>.+Minimum', pattern)[0]\n",
    "    average = list(map(lambda x: float(x), re.findall(r\"[0-9]+.[0-9]*\", pattern)))\n",
    "\n",
    "    vals  = np.array(freq + maximum + average).reshape(3, 6).T\n",
    "    vals = np.hstack((np.ones((6, 1))*int(fname.split(\".\")[0]), np.hstack((np.arange(1, 7).reshape(6, 1), vals))))\n",
    "    \n",
    "    return vals"
   ]
  },
  {
   "cell_type": "code",
   "execution_count": 3,
   "metadata": {},
   "outputs": [],
   "source": [
    "fnames = list(os.walk(\"../\"))[3][2][:-2]"
   ]
  },
  {
   "cell_type": "code",
   "execution_count": 4,
   "metadata": {},
   "outputs": [],
   "source": [
    "data = scrapper(fnames[0])"
   ]
  },
  {
   "cell_type": "code",
   "execution_count": 5,
   "metadata": {},
   "outputs": [],
   "source": [
    "for x in fnames[1:]:\n",
    "    data = np.vstack((data, scrapper(x)))"
   ]
  },
  {
   "cell_type": "markdown",
   "metadata": {},
   "source": [
    "# Saving as Dataframe"
   ]
  },
  {
   "cell_type": "code",
   "execution_count": 6,
   "metadata": {},
   "outputs": [],
   "source": [
    "colnames = [\"Index\", \"Mode\", \"Frequency\", \"Max_Deflection\", \"Average_Deflection\"]"
   ]
  },
  {
   "cell_type": "code",
   "execution_count": 7,
   "metadata": {},
   "outputs": [],
   "source": [
    "df = pd.DataFrame(data, columns=colnames)"
   ]
  },
  {
   "cell_type": "code",
   "execution_count": 8,
   "metadata": {},
   "outputs": [],
   "source": [
    "df = df.sort_values(\"Index\")"
   ]
  },
  {
   "cell_type": "markdown",
   "metadata": {},
   "source": [
    "# Exporting File"
   ]
  },
  {
   "cell_type": "code",
   "execution_count": 9,
   "metadata": {},
   "outputs": [],
   "source": [
    "df.to_csv(\"Fixed-Fixed.csv\", index=False)"
   ]
  }
 ],
 "metadata": {
  "@webio": {
   "lastCommId": null,
   "lastKernelId": null
  },
  "kernelspec": {
   "display_name": "Python 3",
   "language": "python",
   "name": "python3"
  },
  "language_info": {
   "codemirror_mode": {
    "name": "ipython",
    "version": 3
   },
   "file_extension": ".py",
   "mimetype": "text/x-python",
   "name": "python",
   "nbconvert_exporter": "python",
   "pygments_lexer": "ipython3",
   "version": "3.6.6"
  }
 },
 "nbformat": 4,
 "nbformat_minor": 2
}
